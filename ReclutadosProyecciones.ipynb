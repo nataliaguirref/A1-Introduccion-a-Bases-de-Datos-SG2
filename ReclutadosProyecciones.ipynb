{
  "nbformat": 4,
  "nbformat_minor": 0,
  "metadata": {
    "colab": {
      "name": "ReclutadosProyecciones.ipynb",
      "provenance": [],
      "collapsed_sections": [],
      "mount_file_id": "1YkgdJA7bwGE9O_1Wu4eUb3ZwrutUhp8C",
      "authorship_tag": "ABX9TyPzlXvnL1SK61KZAo7kpVPl",
      "include_colab_link": true
    },
    "kernelspec": {
      "name": "python3",
      "display_name": "Python 3"
    },
    "language_info": {
      "name": "python"
    }
  },
  "cells": [
    {
      "cell_type": "markdown",
      "metadata": {
        "id": "view-in-github",
        "colab_type": "text"
      },
      "source": [
        "<a href=\"https://colab.research.google.com/github/nataliaguirref/A1-Introduccion-a-Bases-de-Datos-SG2/blob/experto/ReclutadosProyecciones.ipynb\" target=\"_parent\"><img src=\"https://colab.research.google.com/assets/colab-badge.svg\" alt=\"Open In Colab\"/></a>"
      ]
    },
    {
      "cell_type": "code",
      "metadata": {
        "id": "UBXSDXDnSaDL"
      },
      "source": [
        "import pandas as pd\n",
        "import numpy as np"
      ],
      "execution_count": 2,
      "outputs": []
    },
    {
      "cell_type": "code",
      "metadata": {
        "id": "do5M9EM9SduF"
      },
      "source": [
        "df_resultados = pd.read_csv('drive/MyDrive/Predicciones/Resultados.csv')\n",
        "df_programas = pd.read_csv('drive/MyDrive/Predicciones/Programas .csv')\n",
        "df_niveles = pd.read_csv('drive/MyDrive/Predicciones/Niveles.csv')"
      ],
      "execution_count": 3,
      "outputs": []
    },
    {
      "cell_type": "code",
      "metadata": {
        "colab": {
          "base_uri": "https://localhost:8080/",
          "height": 324
        },
        "id": "zSgG2uplS0y3",
        "outputId": "2d8bc82c-fd21-4644-96ad-de7700a1a04f"
      },
      "source": [
        "df_resultados.head()"
      ],
      "execution_count": 4,
      "outputs": [
        {
          "output_type": "execute_result",
          "data": {
            "text/html": [
              "<div>\n",
              "<style scoped>\n",
              "    .dataframe tbody tr th:only-of-type {\n",
              "        vertical-align: middle;\n",
              "    }\n",
              "\n",
              "    .dataframe tbody tr th {\n",
              "        vertical-align: top;\n",
              "    }\n",
              "\n",
              "    .dataframe thead th {\n",
              "        text-align: right;\n",
              "    }\n",
              "</style>\n",
              "<table border=\"1\" class=\"dataframe\">\n",
              "  <thead>\n",
              "    <tr style=\"text-align: right;\">\n",
              "      <th></th>\n",
              "      <th>Año</th>\n",
              "      <th>Catálogo</th>\n",
              "      <th>Pos Inac</th>\n",
              "      <th>Removidos</th>\n",
              "      <th>FFVV inicial</th>\n",
              "      <th>FFVV final</th>\n",
              "      <th>Activos</th>\n",
              "      <th>Old Actives</th>\n",
              "      <th>Reclutados</th>\n",
              "      <th>Inscritos</th>\n",
              "      <th>Tasa de Recl</th>\n",
              "      <th>Conversión a Rec</th>\n",
              "      <th>Unnamed: 12</th>\n",
              "      <th>Tipo</th>\n",
              "    </tr>\n",
              "  </thead>\n",
              "  <tbody>\n",
              "    <tr>\n",
              "      <th>0</th>\n",
              "      <td>2011</td>\n",
              "      <td>C01</td>\n",
              "      <td>4856</td>\n",
              "      <td>4057</td>\n",
              "      <td>43105</td>\n",
              "      <td>44546</td>\n",
              "      <td>27490</td>\n",
              "      <td>23804</td>\n",
              "      <td>3686</td>\n",
              "      <td>4819</td>\n",
              "      <td>0.085512</td>\n",
              "      <td>0.764889</td>\n",
              "      <td>Cierre Ixtapa 20 km rec</td>\n",
              "      <td>NaN</td>\n",
              "    </tr>\n",
              "    <tr>\n",
              "      <th>1</th>\n",
              "      <td>2011</td>\n",
              "      <td>C02</td>\n",
              "      <td>5980</td>\n",
              "      <td>4758</td>\n",
              "      <td>44546</td>\n",
              "      <td>45071</td>\n",
              "      <td>31413</td>\n",
              "      <td>28726</td>\n",
              "      <td>2687</td>\n",
              "      <td>4636</td>\n",
              "      <td>0.060320</td>\n",
              "      <td>0.579594</td>\n",
              "      <td>Campaña de PRIMAVERA</td>\n",
              "      <td>NaN</td>\n",
              "    </tr>\n",
              "    <tr>\n",
              "      <th>2</th>\n",
              "      <td>2011</td>\n",
              "      <td>C03</td>\n",
              "      <td>6848</td>\n",
              "      <td>5451</td>\n",
              "      <td>45071</td>\n",
              "      <td>43690</td>\n",
              "      <td>30389</td>\n",
              "      <td>28152</td>\n",
              "      <td>2237</td>\n",
              "      <td>4386</td>\n",
              "      <td>0.049633</td>\n",
              "      <td>0.510032</td>\n",
              "      <td>NaN</td>\n",
              "      <td>NaN</td>\n",
              "    </tr>\n",
              "    <tr>\n",
              "      <th>3</th>\n",
              "      <td>2011</td>\n",
              "      <td>C04</td>\n",
              "      <td>4678</td>\n",
              "      <td>3922</td>\n",
              "      <td>43690</td>\n",
              "      <td>51334</td>\n",
              "      <td>36234</td>\n",
              "      <td>26541</td>\n",
              "      <td>9693</td>\n",
              "      <td>14525</td>\n",
              "      <td>0.221859</td>\n",
              "      <td>0.667332</td>\n",
              "      <td>Croc Regional Campaign\\nx1, x2, x3 rec (4 weeks)</td>\n",
              "      <td>PR1</td>\n",
              "    </tr>\n",
              "    <tr>\n",
              "      <th>4</th>\n",
              "      <td>2011</td>\n",
              "      <td>C05</td>\n",
              "      <td>5755</td>\n",
              "      <td>4738</td>\n",
              "      <td>51334</td>\n",
              "      <td>56935</td>\n",
              "      <td>37802</td>\n",
              "      <td>28915</td>\n",
              "      <td>8887</td>\n",
              "      <td>10285</td>\n",
              "      <td>0.173121</td>\n",
              "      <td>0.864074</td>\n",
              "      <td>NaN</td>\n",
              "      <td>NaN</td>\n",
              "    </tr>\n",
              "  </tbody>\n",
              "</table>\n",
              "</div>"
            ],
            "text/plain": [
              "    Año Catálogo  ...                                       Unnamed: 12  Tipo\n",
              "0  2011      C01  ...                           Cierre Ixtapa 20 km rec   NaN\n",
              "1  2011      C02  ...                              Campaña de PRIMAVERA   NaN\n",
              "2  2011      C03  ...                                               NaN   NaN\n",
              "3  2011      C04  ...  Croc Regional Campaign\\nx1, x2, x3 rec (4 weeks)   PR1\n",
              "4  2011      C05  ...                                               NaN   NaN\n",
              "\n",
              "[5 rows x 14 columns]"
            ]
          },
          "metadata": {
            "tags": []
          },
          "execution_count": 4
        }
      ]
    },
    {
      "cell_type": "code",
      "metadata": {
        "id": "08yqFhv9TmnK"
      },
      "source": [
        "filtered_niveles = df_niveles[['Nivel_Sponsor', 'Acumulado', '%Distribution _Sponsors', 'Nivel_Sponsor100', '%Sponsor_Ganadores', 'Nivel_Premio.1']]\n"
      ],
      "execution_count": 5,
      "outputs": []
    },
    {
      "cell_type": "code",
      "metadata": {
        "id": "ChhTq12krRIS"
      },
      "source": [
        "filtered_resultados = df_resultados[['Pos Inac', 'Removidos', 'FFVV inicial ', 'FFVV final', 'Activos', 'Old Actives', 'Reclutados', 'Inscritos']]"
      ],
      "execution_count": 10,
      "outputs": []
    },
    {
      "cell_type": "code",
      "metadata": {
        "colab": {
          "base_uri": "https://localhost:8080/",
          "height": 366
        },
        "id": "bB6b_WiWUPuC",
        "outputId": "cd21a769-3aee-44a8-dbab-eb7e7f0439b7"
      },
      "source": [
        "filtered_resultados.corr()"
      ],
      "execution_count": 11,
      "outputs": [
        {
          "output_type": "execute_result",
          "data": {
            "text/html": [
              "<div>\n",
              "<style scoped>\n",
              "    .dataframe tbody tr th:only-of-type {\n",
              "        vertical-align: middle;\n",
              "    }\n",
              "\n",
              "    .dataframe tbody tr th {\n",
              "        vertical-align: top;\n",
              "    }\n",
              "\n",
              "    .dataframe thead th {\n",
              "        text-align: right;\n",
              "    }\n",
              "</style>\n",
              "<table border=\"1\" class=\"dataframe\">\n",
              "  <thead>\n",
              "    <tr style=\"text-align: right;\">\n",
              "      <th></th>\n",
              "      <th>Pos Inac</th>\n",
              "      <th>Removidos</th>\n",
              "      <th>FFVV inicial</th>\n",
              "      <th>FFVV final</th>\n",
              "      <th>Activos</th>\n",
              "      <th>Old Actives</th>\n",
              "      <th>Reclutados</th>\n",
              "      <th>Inscritos</th>\n",
              "    </tr>\n",
              "  </thead>\n",
              "  <tbody>\n",
              "    <tr>\n",
              "      <th>Pos Inac</th>\n",
              "      <td>1.000000</td>\n",
              "      <td>0.988864</td>\n",
              "      <td>0.857713</td>\n",
              "      <td>0.794634</td>\n",
              "      <td>0.781388</td>\n",
              "      <td>0.808066</td>\n",
              "      <td>0.328222</td>\n",
              "      <td>0.415767</td>\n",
              "    </tr>\n",
              "    <tr>\n",
              "      <th>Removidos</th>\n",
              "      <td>0.988864</td>\n",
              "      <td>1.000000</td>\n",
              "      <td>0.861776</td>\n",
              "      <td>0.793625</td>\n",
              "      <td>0.772483</td>\n",
              "      <td>0.803226</td>\n",
              "      <td>0.307278</td>\n",
              "      <td>0.395543</td>\n",
              "    </tr>\n",
              "    <tr>\n",
              "      <th>FFVV inicial</th>\n",
              "      <td>0.857713</td>\n",
              "      <td>0.861776</td>\n",
              "      <td>1.000000</td>\n",
              "      <td>0.986416</td>\n",
              "      <td>0.949950</td>\n",
              "      <td>0.959307</td>\n",
              "      <td>0.489895</td>\n",
              "      <td>0.574141</td>\n",
              "    </tr>\n",
              "    <tr>\n",
              "      <th>FFVV final</th>\n",
              "      <td>0.794634</td>\n",
              "      <td>0.793625</td>\n",
              "      <td>0.986416</td>\n",
              "      <td>1.000000</td>\n",
              "      <td>0.976412</td>\n",
              "      <td>0.964480</td>\n",
              "      <td>0.588392</td>\n",
              "      <td>0.664493</td>\n",
              "    </tr>\n",
              "    <tr>\n",
              "      <th>Activos</th>\n",
              "      <td>0.781388</td>\n",
              "      <td>0.772483</td>\n",
              "      <td>0.949950</td>\n",
              "      <td>0.976412</td>\n",
              "      <td>1.000000</td>\n",
              "      <td>0.980424</td>\n",
              "      <td>0.631572</td>\n",
              "      <td>0.708731</td>\n",
              "    </tr>\n",
              "    <tr>\n",
              "      <th>Old Actives</th>\n",
              "      <td>0.808066</td>\n",
              "      <td>0.803226</td>\n",
              "      <td>0.959307</td>\n",
              "      <td>0.964480</td>\n",
              "      <td>0.980424</td>\n",
              "      <td>1.000000</td>\n",
              "      <td>0.466549</td>\n",
              "      <td>0.565804</td>\n",
              "    </tr>\n",
              "    <tr>\n",
              "      <th>Reclutados</th>\n",
              "      <td>0.328222</td>\n",
              "      <td>0.307278</td>\n",
              "      <td>0.489895</td>\n",
              "      <td>0.588392</td>\n",
              "      <td>0.631572</td>\n",
              "      <td>0.466549</td>\n",
              "      <td>1.000000</td>\n",
              "      <td>0.955777</td>\n",
              "    </tr>\n",
              "    <tr>\n",
              "      <th>Inscritos</th>\n",
              "      <td>0.415767</td>\n",
              "      <td>0.395543</td>\n",
              "      <td>0.574141</td>\n",
              "      <td>0.664493</td>\n",
              "      <td>0.708731</td>\n",
              "      <td>0.565804</td>\n",
              "      <td>0.955777</td>\n",
              "      <td>1.000000</td>\n",
              "    </tr>\n",
              "  </tbody>\n",
              "</table>\n",
              "</div>"
            ],
            "text/plain": [
              "               Pos Inac  Removidos  ...  Reclutados  Inscritos\n",
              "Pos Inac       1.000000   0.988864  ...    0.328222   0.415767\n",
              "Removidos      0.988864   1.000000  ...    0.307278   0.395543\n",
              "FFVV inicial   0.857713   0.861776  ...    0.489895   0.574141\n",
              "FFVV final     0.794634   0.793625  ...    0.588392   0.664493\n",
              "Activos        0.781388   0.772483  ...    0.631572   0.708731\n",
              "Old Actives    0.808066   0.803226  ...    0.466549   0.565804\n",
              "Reclutados     0.328222   0.307278  ...    1.000000   0.955777\n",
              "Inscritos      0.415767   0.395543  ...    0.955777   1.000000\n",
              "\n",
              "[8 rows x 8 columns]"
            ]
          },
          "metadata": {
            "tags": []
          },
          "execution_count": 11
        }
      ]
    },
    {
      "cell_type": "code",
      "metadata": {
        "id": "NqlIgupfUkKz"
      },
      "source": [
        "import seaborn as sns\n",
        "import matplotlib.pyplot as plt"
      ],
      "execution_count": 12,
      "outputs": []
    },
    {
      "cell_type": "code",
      "metadata": {
        "colab": {
          "base_uri": "https://localhost:8080/",
          "height": 429
        },
        "id": "F6DunpFzUbyS",
        "outputId": "b2072ac8-8c16-452e-c8fc-48a1486619dc"
      },
      "source": [
        "plt.figure(figsize=(8, 6))\n",
        "ax = sns.heatmap(filtered_resultados.corr(), vmin=-1, vmax=1, annot=True, cmap=\"YlGnBu\", linewidths=.5);"
      ],
      "execution_count": 13,
      "outputs": [
        {
          "output_type": "display_data",
          "data": {
            "image/png": "[encoded data removed]",
            "text/plain": [
              "<Figure size 576x432 with 2 Axes>"
            ]
          },
          "metadata": {
            "tags": [],
            "needs_background": "light"
          }
        }
      ]
    },
    {
      "cell_type": "code",
      "metadata": {
        "id": "UPC66yS4Ue8m"
      },
      "source": [
        "from sklearn import preprocessing, svm \n",
        "from sklearn.model_selection import train_test_split \n",
        "from sklearn.linear_model import LinearRegression \n",
        "from sklearn.metrics import mean_squared_error\n",
        "from sklearn.preprocessing import PolynomialFeatures"
      ],
      "execution_count": 36,
      "outputs": []
    },
    {
      "cell_type": "code",
      "metadata": {
        "id": "1M07kp8GekMl"
      },
      "source": [
        "X = filtered_resultados[['Activos', 'Old Actives']]\n",
        "Y = filtered_resultados['Reclutados']"
      ],
      "execution_count": 39,
      "outputs": []
    },
    {
      "cell_type": "code",
      "metadata": {
        "colab": {
          "base_uri": "https://localhost:8080/"
        },
        "id": "7crY3CX5fFJA",
        "outputId": "34d0db09-d995-4ce9-db5f-10a3e384eb06"
      },
      "source": [
        "X_train, X_test, Y_train, Y_test = train_test_split(X, Y, test_size = 0.4)\n",
        "print(X_train.shape)\n",
        "print(X_test.shape)\n",
        "print(Y_train.shape)\n",
        "print(Y_test.shape)"
      ],
      "execution_count": 40,
      "outputs": [
        {
          "output_type": "stream",
          "text": [
            "(106, 2)\n",
            "(71, 2)\n",
            "(106,)\n",
            "(71,)\n"
          ],
          "name": "stdout"
        }
      ]
    },
    {
      "cell_type": "code",
      "metadata": {
        "colab": {
          "base_uri": "https://localhost:8080/"
        },
        "id": "9dQCsXKAfJfp",
        "outputId": "cc60201c-9924-4abf-c224-9571ca0b14fb"
      },
      "source": [
        "lin_model = LinearRegression()\n",
        "lin_model.fit(X_train, Y_train)"
      ],
      "execution_count": 45,
      "outputs": [
        {
          "output_type": "execute_result",
          "data": {
            "text/plain": [
              "LinearRegression(copy_X=True, fit_intercept=True, n_jobs=None, normalize=False)"
            ]
          },
          "metadata": {
            "tags": []
          },
          "execution_count": 45
        }
      ]
    },
    {
      "cell_type": "code",
      "metadata": {
        "colab": {
          "base_uri": "https://localhost:8080/"
        },
        "id": "jiHS_4xFfJ61",
        "outputId": "f5a8c15a-4e7b-481f-fe8b-9b0867b378fe"
      },
      "source": [
        "y_train_predict = lin_model.predict(X_train)\n",
        "MSE = mean_squared_error(Y_train,y_train_predict)\n",
        "print(\"Entrenamiento: MSE =\"+str(MSE))\n",
        "\n",
        "y_test_predict = lin_model.predict(X_test)\n",
        "MSE = (mean_squared_error(Y_test, y_test_predict))\n",
        "print(\"Pruebas: MSE =\"+str(MSE))"
      ],
      "execution_count": 46,
      "outputs": [
        {
          "output_type": "stream",
          "text": [
            "Entrenamiento: MSE =7.851046270312413e-23\n",
            "Pruebas: MSE =8.486538134898136e-23\n"
          ],
          "name": "stdout"
        }
      ]
    },
    {
      "cell_type": "code",
      "metadata": {
        "colab": {
          "base_uri": "https://localhost:8080/",
          "height": 357
        },
        "id": "randOVBSfN3D",
        "outputId": "aa5092f0-30ae-4d9d-fbc8-d7c308c9149c"
      },
      "source": [
        "df_predicciones = pd.DataFrame({'valor_real':Y_test, 'prediccion':y_test_predict})\n",
        "df_predicciones = df_predicciones.reset_index(drop = True)\n",
        "df_predicciones.head(10)"
      ],
      "execution_count": 47,
      "outputs": [
        {
          "output_type": "execute_result",
          "data": {
            "text/html": [
              "<div>\n",
              "<style scoped>\n",
              "    .dataframe tbody tr th:only-of-type {\n",
              "        vertical-align: middle;\n",
              "    }\n",
              "\n",
              "    .dataframe tbody tr th {\n",
              "        vertical-align: top;\n",
              "    }\n",
              "\n",
              "    .dataframe thead th {\n",
              "        text-align: right;\n",
              "    }\n",
              "</style>\n",
              "<table border=\"1\" class=\"dataframe\">\n",
              "  <thead>\n",
              "    <tr style=\"text-align: right;\">\n",
              "      <th></th>\n",
              "      <th>valor_real</th>\n",
              "      <th>prediccion</th>\n",
              "    </tr>\n",
              "  </thead>\n",
              "  <tbody>\n",
              "    <tr>\n",
              "      <th>0</th>\n",
              "      <td>16954</td>\n",
              "      <td>16954.0</td>\n",
              "    </tr>\n",
              "    <tr>\n",
              "      <th>1</th>\n",
              "      <td>13095</td>\n",
              "      <td>13095.0</td>\n",
              "    </tr>\n",
              "    <tr>\n",
              "      <th>2</th>\n",
              "      <td>13384</td>\n",
              "      <td>13384.0</td>\n",
              "    </tr>\n",
              "    <tr>\n",
              "      <th>3</th>\n",
              "      <td>6582</td>\n",
              "      <td>6582.0</td>\n",
              "    </tr>\n",
              "    <tr>\n",
              "      <th>4</th>\n",
              "      <td>11523</td>\n",
              "      <td>11523.0</td>\n",
              "    </tr>\n",
              "    <tr>\n",
              "      <th>5</th>\n",
              "      <td>18511</td>\n",
              "      <td>18511.0</td>\n",
              "    </tr>\n",
              "    <tr>\n",
              "      <th>6</th>\n",
              "      <td>13646</td>\n",
              "      <td>13646.0</td>\n",
              "    </tr>\n",
              "    <tr>\n",
              "      <th>7</th>\n",
              "      <td>6085</td>\n",
              "      <td>6085.0</td>\n",
              "    </tr>\n",
              "    <tr>\n",
              "      <th>8</th>\n",
              "      <td>6979</td>\n",
              "      <td>6979.0</td>\n",
              "    </tr>\n",
              "    <tr>\n",
              "      <th>9</th>\n",
              "      <td>11115</td>\n",
              "      <td>11115.0</td>\n",
              "    </tr>\n",
              "  </tbody>\n",
              "</table>\n",
              "</div>"
            ],
            "text/plain": [
              "   valor_real  prediccion\n",
              "0       16954     16954.0\n",
              "1       13095     13095.0\n",
              "2       13384     13384.0\n",
              "3        6582      6582.0\n",
              "4       11523     11523.0\n",
              "5       18511     18511.0\n",
              "6       13646     13646.0\n",
              "7        6085      6085.0\n",
              "8        6979      6979.0\n",
              "9       11115     11115.0"
            ]
          },
          "metadata": {
            "tags": []
          },
          "execution_count": 47
        }
      ]
    },
    {
      "cell_type": "code",
      "metadata": {
        "colab": {
          "base_uri": "https://localhost:8080/",
          "height": 390
        },
        "id": "IXm_y5xjfdpo",
        "outputId": "d5414263-852f-4b45-aa53-178585808f79"
      },
      "source": [
        "##Polinomio de segundo Grado\n",
        "poly_model = LinearRegression()\n",
        "poly = PolynomialFeatures(degree=3)\n",
        "\n",
        "Xpolytrain = poly.fit_transform(X_train)\n",
        "Xpolytest = poly.fit_transform(X_test)\n",
        "\n",
        "poly_model.fit(Xpolytrain, Y_train)\n",
        "y_train_predict = poly_model.predict(Xpolytrain)\n",
        "\n",
        "MSE = mean_squared_error(Y_train,y_train_predict)\n",
        "print(\"Entrenamiento: MSE =\"+str(MSE))\n",
        "\n",
        "y_test_predict = poly_model.predict(Xpolytest)\n",
        "MSE = (mean_squared_error(Y_test, y_test_predict))\n",
        "print(\"Pruebas: MSE =\"+str(MSE))\n",
        "\n",
        "df_predicciones = pd.DataFrame({'valor_real':Y_test, 'prediccion':y_test_predict, 'diferencia':Y_test-y_test_predict})\n",
        "df_predicciones = df_predicciones.reset_index(drop = True)\n",
        "df_predicciones.head(10)"
      ],
      "execution_count": 50,
      "outputs": [
        {
          "output_type": "stream",
          "text": [
            "Entrenamiento: MSE =0.0003775213572508563\n",
            "Pruebas: MSE =0.0002973719400437798\n"
          ],
          "name": "stdout"
        },
        {
          "output_type": "execute_result",
          "data": {
            "text/html": [
              "<div>\n",
              "<style scoped>\n",
              "    .dataframe tbody tr th:only-of-type {\n",
              "        vertical-align: middle;\n",
              "    }\n",
              "\n",
              "    .dataframe tbody tr th {\n",
              "        vertical-align: top;\n",
              "    }\n",
              "\n",
              "    .dataframe thead th {\n",
              "        text-align: right;\n",
              "    }\n",
              "</style>\n",
              "<table border=\"1\" class=\"dataframe\">\n",
              "  <thead>\n",
              "    <tr style=\"text-align: right;\">\n",
              "      <th></th>\n",
              "      <th>valor_real</th>\n",
              "      <th>prediccion</th>\n",
              "      <th>diferencia</th>\n",
              "    </tr>\n",
              "  </thead>\n",
              "  <tbody>\n",
              "    <tr>\n",
              "      <th>0</th>\n",
              "      <td>16954</td>\n",
              "      <td>16953.998648</td>\n",
              "      <td>0.001352</td>\n",
              "    </tr>\n",
              "    <tr>\n",
              "      <th>1</th>\n",
              "      <td>13095</td>\n",
              "      <td>13094.966478</td>\n",
              "      <td>0.033522</td>\n",
              "    </tr>\n",
              "    <tr>\n",
              "      <th>2</th>\n",
              "      <td>13384</td>\n",
              "      <td>13384.027269</td>\n",
              "      <td>-0.027269</td>\n",
              "    </tr>\n",
              "    <tr>\n",
              "      <th>3</th>\n",
              "      <td>6582</td>\n",
              "      <td>6582.001427</td>\n",
              "      <td>-0.001427</td>\n",
              "    </tr>\n",
              "    <tr>\n",
              "      <th>4</th>\n",
              "      <td>11523</td>\n",
              "      <td>11523.011120</td>\n",
              "      <td>-0.011120</td>\n",
              "    </tr>\n",
              "    <tr>\n",
              "      <th>5</th>\n",
              "      <td>18511</td>\n",
              "      <td>18511.001489</td>\n",
              "      <td>-0.001489</td>\n",
              "    </tr>\n",
              "    <tr>\n",
              "      <th>6</th>\n",
              "      <td>13646</td>\n",
              "      <td>13645.986773</td>\n",
              "      <td>0.013227</td>\n",
              "    </tr>\n",
              "    <tr>\n",
              "      <th>7</th>\n",
              "      <td>6085</td>\n",
              "      <td>6085.014973</td>\n",
              "      <td>-0.014973</td>\n",
              "    </tr>\n",
              "    <tr>\n",
              "      <th>8</th>\n",
              "      <td>6979</td>\n",
              "      <td>6978.999472</td>\n",
              "      <td>0.000528</td>\n",
              "    </tr>\n",
              "    <tr>\n",
              "      <th>9</th>\n",
              "      <td>11115</td>\n",
              "      <td>11115.002335</td>\n",
              "      <td>-0.002335</td>\n",
              "    </tr>\n",
              "  </tbody>\n",
              "</table>\n",
              "</div>"
            ],
            "text/plain": [
              "   valor_real    prediccion  diferencia\n",
              "0       16954  16953.998648    0.001352\n",
              "1       13095  13094.966478    0.033522\n",
              "2       13384  13384.027269   -0.027269\n",
              "3        6582   6582.001427   -0.001427\n",
              "4       11523  11523.011120   -0.011120\n",
              "5       18511  18511.001489   -0.001489\n",
              "6       13646  13645.986773    0.013227\n",
              "7        6085   6085.014973   -0.014973\n",
              "8        6979   6978.999472    0.000528\n",
              "9       11115  11115.002335   -0.002335"
            ]
          },
          "metadata": {
            "tags": []
          },
          "execution_count": 50
        }
      ]
    },
    {
      "cell_type": "code",
      "metadata": {
        "id": "Pwrry0LqqUEI"
      },
      "source": [
        ""
      ],
      "execution_count": null,
      "outputs": []
    },
    {
      "cell_type": "code",
      "metadata": {
        "colab": {
          "base_uri": "https://localhost:8080/"
        },
        "id": "l0CVewTWgmf0",
        "outputId": "80aec65f-67b5-407e-cf40-8ca6a81e5a85"
      },
      "source": [
        "serie_1 = df_duracion[['Inscritos']]\n",
        "serie_2 =df_duracion['Reclutados']\n",
        "\n",
        "lr = LinearRegression()\n",
        "lr.fit(serie_1, serie_2)\n",
        "\n",
        "y_predict = lr.predict(serie_1)\n",
        "\n",
        "intercept = lr.intercept_\n",
        "coefficient = lr.coef_[0]\n",
        "print(f'Reclutados = {coefficient} * Inscritos + {intercept}')"
      ],
      "execution_count": null,
      "outputs": [
        {
          "output_type": "stream",
          "text": [
            "Reclutados = 0.7692798846653203 * Inscritos + -2006.4564462878898\n"
          ],
          "name": "stdout"
        }
      ]
    },
    {
      "cell_type": "code",
      "metadata": {
        "colab": {
          "base_uri": "https://localhost:8080/"
        },
        "id": "02A6CvkDg6-Q",
        "outputId": "d39809fb-6107-4eb7-dba5-9dffffa5617b"
      },
      "source": [
        "lr.score(serie_1,serie_2)"
      ],
      "execution_count": null,
      "outputs": [
        {
          "output_type": "execute_result",
          "data": {
            "text/plain": [
              "0.8874381739865648"
            ]
          },
          "metadata": {
            "tags": []
          },
          "execution_count": 27
        }
      ]
    },
    {
      "cell_type": "code",
      "metadata": {
        "colab": {
          "base_uri": "https://localhost:8080/"
        },
        "id": "uyoMNoBehBgW",
        "outputId": "edb7fb12-ed56-40ff-e68f-0738c09f060a"
      },
      "source": [
        "Inscritos = (11719 - intercept)/coefficient\n",
        "Inscritos"
      ],
      "execution_count": null,
      "outputs": [
        {
          "output_type": "execute_result",
          "data": {
            "text/plain": [
              "17841.954170242254"
            ]
          },
          "metadata": {
            "tags": []
          },
          "execution_count": 28
        }
      ]
    },
    {
      "cell_type": "code",
      "metadata": {
        "colab": {
          "base_uri": "https://localhost:8080/"
        },
        "id": "174at40hhO2d",
        "outputId": "6f9dd33d-065d-4ac1-c480-1702bfd9343a"
      },
      "source": [
        "X = df_duracion[['Inscritos']]\n",
        "y = df_duracion['Reclutados']\n",
        "\n",
        "X_training, X_test, y_training, y_test = train_test_split(X, y, test_size=0.3, shuffle=True)\n",
        "\n",
        "lr = LinearRegression()\n",
        "lr.fit(X_training, y_training)\n",
        "\n",
        "lr.score(X_test, y_test)"
      ],
      "execution_count": null,
      "outputs": [
        {
          "output_type": "execute_result",
          "data": {
            "text/plain": [
              "0.8634482846234112"
            ]
          },
          "metadata": {
            "tags": []
          },
          "execution_count": 29
        }
      ]
    },
    {
      "cell_type": "code",
      "metadata": {
        "colab": {
          "base_uri": "https://localhost:8080/"
        },
        "id": "xoRZHtQShYbH",
        "outputId": "fe381cc8-0039-4ec9-f4ec-720e903f93db"
      },
      "source": [
        "lr.predict([[18434]])"
      ],
      "execution_count": null,
      "outputs": [
        {
          "output_type": "execute_result",
          "data": {
            "text/plain": [
              "array([12101.94635675])"
            ]
          },
          "metadata": {
            "tags": []
          },
          "execution_count": 30
        }
      ]
    },
    {
      "cell_type": "code",
      "metadata": {
        "colab": {
          "base_uri": "https://localhost:8080/"
        },
        "id": "v3Q1m5a7hcFn",
        "outputId": "3fb7fd57-3298-4ae0-9f6a-7a99ad368bf1"
      },
      "source": [
        "X = df_duracion[['FFVV Inic']]\n",
        "y = df_duracion['Reclutados']\n",
        "lr = LinearRegression()\n",
        "lr.fit(X,y)\n",
        "\n",
        "y_predict = lr.predict(X)\n",
        "\n",
        "intercept_REC = lr.intercept_\n",
        "coefficient_REC = lr.coef_[0]\n",
        "\n",
        "\n",
        "print(f'Reclutados = {intercept_REC} + {coefficient_REC} * FFVV')"
      ],
      "execution_count": null,
      "outputs": [
        {
          "output_type": "stream",
          "text": [
            "Reclutados = 5939.661368905948 + 0.04054492902387444 * FFVV\n"
          ],
          "name": "stdout"
        }
      ]
    },
    {
      "cell_type": "code",
      "metadata": {
        "colab": {
          "base_uri": "https://localhost:8080/"
        },
        "id": "OVSv9L-2jic9",
        "outputId": "9c72807b-5663-47be-8650-905040613842"
      },
      "source": [
        "Reclutados = intercept_REC + coefficient_REC * 113426\n",
        "Reclutados"
      ],
      "execution_count": null,
      "outputs": [
        {
          "output_type": "execute_result",
          "data": {
            "text/plain": [
              "10538.51048836793"
            ]
          },
          "metadata": {
            "tags": []
          },
          "execution_count": 32
        }
      ]
    },
    {
      "cell_type": "code",
      "metadata": {
        "colab": {
          "base_uri": "https://localhost:8080/"
        },
        "id": "YltSY0KQkOHl",
        "outputId": "36d6bbb6-2be3-42e8-ac35-59b4f8213f11"
      },
      "source": [
        "Inscritos = (Reclutados - intercept)/coefficient\n",
        "Inscritos"
      ],
      "execution_count": null,
      "outputs": [
        {
          "output_type": "execute_result",
          "data": {
            "text/plain": [
              "16307.415785496045"
            ]
          },
          "metadata": {
            "tags": []
          },
          "execution_count": 33
        }
      ]
    },
    {
      "cell_type": "code",
      "metadata": {
        "colab": {
          "base_uri": "https://localhost:8080/"
        },
        "id": "zptGXN38lKfr",
        "outputId": "3b06605d-2ba8-4697-8cee-d64704cec696"
      },
      "source": [
        "CR = Reclutados/ Inscritos\n",
        "CR"
      ],
      "execution_count": null,
      "outputs": [
        {
          "output_type": "execute_result",
          "data": {
            "text/plain": [
              "0.6462403747466212"
            ]
          },
          "metadata": {
            "tags": []
          },
          "execution_count": 34
        }
      ]
    },
    {
      "cell_type": "code",
      "metadata": {
        "id": "8xRMSj2hlbcF"
      },
      "source": [
        "df_2 = pd.read_csv('drive/MyDrive/Proyecto/BM-2.csv')"
      ],
      "execution_count": null,
      "outputs": []
    },
    {
      "cell_type": "code",
      "metadata": {
        "colab": {
          "base_uri": "https://localhost:8080/",
          "height": 304
        },
        "id": "WosS2MGVUgQG",
        "outputId": "697ef87a-d6cb-4bd5-c7c2-228176442147"
      },
      "source": [
        "df_2.head()"
      ],
      "execution_count": null,
      "outputs": [
        {
          "output_type": "execute_result",
          "data": {
            "text/html": [
              "<div>\n",
              "<style scoped>\n",
              "    .dataframe tbody tr th:only-of-type {\n",
              "        vertical-align: middle;\n",
              "    }\n",
              "\n",
              "    .dataframe tbody tr th {\n",
              "        vertical-align: top;\n",
              "    }\n",
              "\n",
              "    .dataframe thead th {\n",
              "        text-align: right;\n",
              "    }\n",
              "</style>\n",
              "<table border=\"1\" class=\"dataframe\">\n",
              "  <thead>\n",
              "    <tr style=\"text-align: right;\">\n",
              "      <th></th>\n",
              "      <th>Year</th>\n",
              "      <th>Catálogo</th>\n",
              "      <th>Pos Inac</th>\n",
              "      <th>Removidos</th>\n",
              "      <th>FFVV inicial</th>\n",
              "      <th>FFVV final</th>\n",
              "      <th>Activos</th>\n",
              "      <th>Old Actives</th>\n",
              "      <th>Reclutados</th>\n",
              "      <th>Inscritos</th>\n",
              "      <th>Tasa de Recl</th>\n",
              "      <th>Conversión a Rec</th>\n",
              "      <th>Unnamed: 12</th>\n",
              "      <th>Descripción</th>\n",
              "    </tr>\n",
              "  </thead>\n",
              "  <tbody>\n",
              "    <tr>\n",
              "      <th>0</th>\n",
              "      <td>2011</td>\n",
              "      <td>C01</td>\n",
              "      <td>4856</td>\n",
              "      <td>4057</td>\n",
              "      <td>43105</td>\n",
              "      <td>44546</td>\n",
              "      <td>27490</td>\n",
              "      <td>23804</td>\n",
              "      <td>3686</td>\n",
              "      <td>4819</td>\n",
              "      <td>8.6%</td>\n",
              "      <td>76%</td>\n",
              "      <td>Cierre Ixtapa 20 km rec</td>\n",
              "      <td>NaN</td>\n",
              "    </tr>\n",
              "    <tr>\n",
              "      <th>1</th>\n",
              "      <td>2011</td>\n",
              "      <td>C02</td>\n",
              "      <td>5980</td>\n",
              "      <td>4758</td>\n",
              "      <td>44546</td>\n",
              "      <td>45071</td>\n",
              "      <td>31413</td>\n",
              "      <td>28726</td>\n",
              "      <td>2687</td>\n",
              "      <td>4636</td>\n",
              "      <td>6.0%</td>\n",
              "      <td>58%</td>\n",
              "      <td>Campaña de PRIMAVERA</td>\n",
              "      <td>NaN</td>\n",
              "    </tr>\n",
              "    <tr>\n",
              "      <th>2</th>\n",
              "      <td>2011</td>\n",
              "      <td>C03</td>\n",
              "      <td>6848</td>\n",
              "      <td>5451</td>\n",
              "      <td>45071</td>\n",
              "      <td>43690</td>\n",
              "      <td>30389</td>\n",
              "      <td>28152</td>\n",
              "      <td>2237</td>\n",
              "      <td>4386</td>\n",
              "      <td>5.0%</td>\n",
              "      <td>51%</td>\n",
              "      <td>NaN</td>\n",
              "      <td>NaN</td>\n",
              "    </tr>\n",
              "    <tr>\n",
              "      <th>3</th>\n",
              "      <td>2011</td>\n",
              "      <td>C04</td>\n",
              "      <td>4678</td>\n",
              "      <td>3922</td>\n",
              "      <td>43690</td>\n",
              "      <td>51334</td>\n",
              "      <td>36234</td>\n",
              "      <td>26541</td>\n",
              "      <td>9693</td>\n",
              "      <td>14525</td>\n",
              "      <td>22.2%</td>\n",
              "      <td>67%</td>\n",
              "      <td>Croc Regional Campaign\\nx1, x2, x3 rec (4 weeks)</td>\n",
              "      <td>PR1</td>\n",
              "    </tr>\n",
              "    <tr>\n",
              "      <th>4</th>\n",
              "      <td>2011</td>\n",
              "      <td>C05</td>\n",
              "      <td>5755</td>\n",
              "      <td>4738</td>\n",
              "      <td>51334</td>\n",
              "      <td>56935</td>\n",
              "      <td>37802</td>\n",
              "      <td>28915</td>\n",
              "      <td>8887</td>\n",
              "      <td>10285</td>\n",
              "      <td>17.3%</td>\n",
              "      <td>86%</td>\n",
              "      <td>NaN</td>\n",
              "      <td>NaN</td>\n",
              "    </tr>\n",
              "  </tbody>\n",
              "</table>\n",
              "</div>"
            ],
            "text/plain": [
              "   Year Catálogo  ...                                       Unnamed: 12  Descripción\n",
              "0  2011      C01  ...                           Cierre Ixtapa 20 km rec          NaN\n",
              "1  2011      C02  ...                              Campaña de PRIMAVERA          NaN\n",
              "2  2011      C03  ...                                               NaN          NaN\n",
              "3  2011      C04  ...  Croc Regional Campaign\\nx1, x2, x3 rec (4 weeks)          PR1\n",
              "4  2011      C05  ...                                               NaN          NaN\n",
              "\n",
              "[5 rows x 14 columns]"
            ]
          },
          "metadata": {
            "tags": []
          },
          "execution_count": 37
        }
      ]
    },
    {
      "cell_type": "code",
      "metadata": {
        "id": "65IqRKrwUq_L"
      },
      "source": [
        "df_filtered2 =df_2[['Pos Inac','Removidos','FFVV inicial ','FFVV final','Activos','Old Actives','Reclutados','Inscritos','Tasa de Recl','Conversión a Rec','Descripción']]"
      ],
      "execution_count": null,
      "outputs": []
    },
    {
      "cell_type": "code",
      "metadata": {
        "colab": {
          "base_uri": "https://localhost:8080/",
          "height": 429
        },
        "id": "5oE7Gh9zUif0",
        "outputId": "c1436a96-d2be-4824-b7fa-8c1beafcbbe6"
      },
      "source": [
        "plt.figure(figsize=(8, 6))\n",
        "ax = sns.heatmap(df_filtered2.corr(), vmin=-1, vmax=1, annot=True, cmap=\"YlGnBu\", linewidths=.5);"
      ],
      "execution_count": null,
      "outputs": [
        {
          "output_type": "display_data",
          "data": {
            "image/png": "[encoded data removed]",
            "text/plain": [
              "<Figure size 576x432 with 2 Axes>"
            ]
          },
          "metadata": {
            "tags": [],
            "needs_background": "light"
          }
        }
      ]
    }
  ]
}